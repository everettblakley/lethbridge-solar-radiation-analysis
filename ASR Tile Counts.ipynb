{
 "cells": [
  {
   "cell_type": "markdown",
   "metadata": {},
   "source": [
    "### Import some libraries"
   ]
  },
  {
   "cell_type": "code",
   "execution_count": 1,
   "metadata": {},
   "outputs": [],
   "source": [
    "import arcpy\n",
    "import os"
   ]
  },
  {
   "cell_type": "markdown",
   "metadata": {},
   "source": [
    "### Set up some files and geodatabases"
   ]
  },
  {
   "cell_type": "code",
   "execution_count": 6,
   "metadata": {},
   "outputs": [],
   "source": [
    "notebook_directory = os.getcwd()\n",
    "dsm_gdb = os.path.join(os.getcwd(), \"Buffered_DSMs.gdb\")\n",
    "asr_gdb = os.path.join(notebook_directory, \"ASR_Rasters.gdb\")\n",
    "default_gdb = os.path.join(notebook_directory, \"Default.gdb\")\n",
    "lidar_tiles = r\"https://services1.arcgis.com/JIxJEU91T3GTguUM/arcgis/rest/services/Lidar_Tile_Index_2015/FeatureServer/0\"\n",
    "dsm_mosaic = os.path.join(default_gdb, \"Lethbridge_DSM\")"
   ]
  },
  {
   "cell_type": "markdown",
   "metadata": {},
   "source": [
    "### Tile summaries\n",
    "\n",
    "Lets summarize the tiles by how many buildings are within them"
   ]
  },
  {
   "cell_type": "code",
   "execution_count": 11,
   "metadata": {},
   "outputs": [
    {
     "data": {
      "text/html": [
       "<div>\n",
       "<style scoped>\n",
       "    .dataframe tbody tr th:only-of-type {\n",
       "        vertical-align: middle;\n",
       "    }\n",
       "\n",
       "    .dataframe tbody tr th {\n",
       "        vertical-align: top;\n",
       "    }\n",
       "\n",
       "    .dataframe thead th {\n",
       "        text-align: right;\n",
       "    }\n",
       "</style>\n",
       "<table border=\"1\" class=\"dataframe\">\n",
       "  <thead>\n",
       "    <tr style=\"text-align: right;\">\n",
       "      <th></th>\n",
       "      <th>label</th>\n",
       "      <th>building_count</th>\n",
       "    </tr>\n",
       "  </thead>\n",
       "  <tbody>\n",
       "    <tr>\n",
       "      <th>122</th>\n",
       "      <td>845_5509</td>\n",
       "      <td>2085</td>\n",
       "    </tr>\n",
       "    <tr>\n",
       "      <th>111</th>\n",
       "      <td>845_5508</td>\n",
       "      <td>2049</td>\n",
       "    </tr>\n",
       "    <tr>\n",
       "      <th>112</th>\n",
       "      <td>855_5508</td>\n",
       "      <td>1996</td>\n",
       "    </tr>\n",
       "    <tr>\n",
       "      <th>130</th>\n",
       "      <td>855_5510</td>\n",
       "      <td>1973</td>\n",
       "    </tr>\n",
       "    <tr>\n",
       "      <th>75</th>\n",
       "      <td>855_5505</td>\n",
       "      <td>1957</td>\n",
       "    </tr>\n",
       "    <tr>\n",
       "      <th>...</th>\n",
       "      <td>...</td>\n",
       "      <td>...</td>\n",
       "    </tr>\n",
       "    <tr>\n",
       "      <th>1</th>\n",
       "      <td>795_5498</td>\n",
       "      <td>0</td>\n",
       "    </tr>\n",
       "    <tr>\n",
       "      <th>115</th>\n",
       "      <td>885_5508</td>\n",
       "      <td>0</td>\n",
       "    </tr>\n",
       "    <tr>\n",
       "      <th>117</th>\n",
       "      <td>795_5509</td>\n",
       "      <td>0</td>\n",
       "    </tr>\n",
       "    <tr>\n",
       "      <th>126</th>\n",
       "      <td>885_5509</td>\n",
       "      <td>0</td>\n",
       "    </tr>\n",
       "    <tr>\n",
       "      <th>156</th>\n",
       "      <td>885_5513</td>\n",
       "      <td>0</td>\n",
       "    </tr>\n",
       "  </tbody>\n",
       "</table>\n",
       "<p>157 rows × 2 columns</p>\n",
       "</div>"
      ],
      "text/plain": [
       "        label  building_count\n",
       "122  845_5509            2085\n",
       "111  845_5508            2049\n",
       "112  855_5508            1996\n",
       "130  855_5510            1973\n",
       "75   855_5505            1957\n",
       "..        ...             ...\n",
       "1    795_5498               0\n",
       "115  885_5508               0\n",
       "117  795_5509               0\n",
       "126  885_5509               0\n",
       "156  885_5513               0\n",
       "\n",
       "[157 rows x 2 columns]"
      ]
     },
     "execution_count": 11,
     "metadata": {},
     "output_type": "execute_result"
    }
   ],
   "source": [
    "import pandas as pd\n",
    "tile_data = [r for r in arcpy.da.SearchCursor(lidar_tiles, ['Label', 'Buildings_Over_10m'])]\n",
    "df = pd.DataFrame.from_records(tile_data, columns=['label', 'building_count']).sort_values(by='building_count', ascending=False)\n",
    "df"
   ]
  },
  {
   "cell_type": "markdown",
   "metadata": {},
   "source": [
    "If we plot this is a histogram, we can see the distribution of building counts"
   ]
  },
  {
   "cell_type": "code",
   "execution_count": 23,
   "metadata": {},
   "outputs": [
    {
     "data": {
      "image/png": "[encoded data removed]",
      "text/plain": [
       "<Figure size 432x288 with 1 Axes>"
      ]
     },
     "metadata": {},
     "output_type": "display_data"
    }
   ],
   "source": [
    "import matplotlib.pyplot as plt\n",
    "%matplotlib inline\n",
    "\n",
    "bins=50\n",
    "histogram = df['building_count'].hist(bins=bins)\n",
    "histogram.set_title(\"Distribution of building counts per tile\")\n",
    "histogram.set_xlabel(\"Number of buildings per tile\")\n",
    "histogram.set_ylabel(\"Count\")\n",
    "plt.show()"
   ]
  },
  {
   "cell_type": "markdown",
   "metadata": {},
   "source": [
    "As we can see, many of the tiles have relatively few buildings. Here is the break down of the smallest of the bins from the histogram"
   ]
  },
  {
   "cell_type": "code",
   "execution_count": 25,
   "metadata": {},
   "outputs": [
    {
     "data": {
      "text/plain": [
       "(-2.085, 41.7]    73\n",
       "(83.4, 125.1]      8\n",
       "(208.5, 250.2]     8\n",
       "(41.7, 83.4]       6\n",
       "(125.1, 166.8]     5\n",
       "Name: building_count, dtype: int64"
      ]
     },
     "execution_count": 25,
     "metadata": {},
     "output_type": "execute_result"
    }
   ],
   "source": [
    "pd.cut(df['building_count'], bins).value_counts().head()"
   ]
  },
  {
   "cell_type": "markdown",
   "metadata": {},
   "source": [
    "So, to cut down on processing time, we can filter out tiles that have a small number of buildings. For argument's sake, let's choose 15 as the minimum number"
   ]
  },
  {
   "cell_type": "code",
   "execution_count": 29,
   "metadata": {},
   "outputs": [
    {
     "name": "stdout",
     "output_type": "stream",
     "text": [
      "Number of tiles: 157\n"
     ]
    }
   ],
   "source": [
    "print(f\"Number of tiles: {len(tile_data)}\")"
   ]
  },
  {
   "cell_type": "code",
   "execution_count": 47,
   "metadata": {},
   "outputs": [
    {
     "name": "stdout",
     "output_type": "stream",
     "text": [
      "Number of tiles with more than 15 buildings: 103\n"
     ]
    }
   ],
   "source": [
    "over_15_buildings = [t[0] for t in tile_data if t[1] >= 15]\n",
    "print(f\"Number of tiles with more than 15 buildings: {len(over_15_buildings)}\")"
   ]
  },
  {
   "cell_type": "markdown",
   "metadata": {},
   "source": [
    "This will cut down processing time considerabley, while still allowing for interesting results\n",
    "\n",
    "This processing is mostly already completed, and the rasters are available in the `asr_gdb` geodatabase. Here is the summary of those rasters"
   ]
  },
  {
   "cell_type": "code",
   "execution_count": 33,
   "metadata": {},
   "outputs": [
    {
     "name": "stdout",
     "output_type": "stream",
     "text": [
      "Number of ASR rasters computed: 102\n"
     ]
    }
   ],
   "source": [
    "arcpy.env.workspace = asr_gdb\n",
    "asr_rasters = arcpy.ListRasters(\"ASR*\")\n",
    "print(f\"Number of ASR rasters computed: {len(asr_rasters)}\")"
   ]
  },
  {
   "cell_type": "code",
   "execution_count": 45,
   "metadata": {},
   "outputs": [
    {
     "data": {
      "text/plain": [
       "['775_5505', '775_5507', '785_5499', '785_5503', '785_5504', '785_5505', '785_5506', '785_5507', '785_5508', '795_5500', '795_5503', '795_5504', '795_5505', '795_5506', '795_5507', '795_5508', '805_5502', '805_5503', '805_5504', '805_5505', '805_5506', '805_5507', '805_5508', '815_5501', '815_5502', '815_5503', '815_5504', '815_5505', '815_5506', '815_5507', '815_5508', '815_5509', '825_5502', '825_5503', '825_5504', '825_5505', '825_5506', '825_5508', '825_5509', '835_5502', '835_5504', '835_5505', '835_5506', '835_5507', '835_5508', '835_5509', '835_5510', '835_5511', '845_5501', '845_5502', '845_5504', '845_5505', '845_5506', '845_5507', '845_5508', '845_5509', '845_5510', '845_5511', '845_5512', '855_5502', '855_5503', '855_5504', '855_5505', '855_5506', '855_5507', '855_5508', '855_5509', '855_5510', '855_5511', '855_5512', '865_5501', '865_5502', '865_5503', '865_5504', '865_5505', '865_5506', '865_5507', '865_5508', '865_5509', '865_5510', '865_5511', '865_5512', '865_5513', '875_5501', '875_5502', '875_5503', '875_5504', '875_5505', '875_5506', '875_5507', '875_5508', '875_5509', '875_5510', '875_5511', '875_5513', '885_5501', '885_5502', '885_5503', '885_5504', '885_5505', '895_5503', '895_5504']"
      ]
     },
     "execution_count": 45,
     "metadata": {},
     "output_type": "execute_result"
    }
   ],
   "source": [
    "asr_raster_labels = [r.split(\"_\", 1)[1] for r in asr_rasters]\n",
    "asr_raster_labels.sort()\n",
    "asr_raster_labels"
   ]
  },
  {
   "cell_type": "code",
   "execution_count": 55,
   "metadata": {},
   "outputs": [
    {
     "data": {
      "text/plain": [
       "'Missing tiles: 775_5506'"
      ]
     },
     "execution_count": 55,
     "metadata": {},
     "output_type": "execute_result"
    }
   ],
   "source": [
    "missing_tiles = [t for t in over_15_buildings if t not in asr_raster_labels]\n",
    "f\"Missing tiles: {', '.join(missing_tiles)}\""
   ]
  }
 ],
 "metadata": {
  "kernelspec": {
   "display_name": "ArcGISPro",
   "language": "Python",
   "name": "python3"
  },
  "language_info": {
   "file_extension": ".py",
   "name": "python",
   "version": "3"
  }
 },
 "nbformat": 4,
 "nbformat_minor": 2
}
